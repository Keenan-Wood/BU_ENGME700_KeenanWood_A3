{
 "cells": [
  {
   "cell_type": "code",
   "execution_count": 18,
   "metadata": {},
   "outputs": [],
   "source": [
    "# Tutorial based on D2_nn4_quad tutorial at https://github.com/Lejeune-Lab-Graduate-Course-Materials/finite-element-analysis/blob/main/tutorials/tutorial_discretization.ipynb\n",
    "\n",
    "from finiteelementanalysis import discretization as disc\n",
    "from finiteelementanalysis import discretization_demo_helper_fcns as di_demo\n",
    "\n",
    "el_type = 'D2_nn6_tri'\n",
    "N_gauss_pts = 4\n",
    "fname = el_type + '_' + str(N_gauss_pts) + '_gauss.png'\n",
    "di_demo.visualize_gauss_pts(fname, el_type, N_gauss_pts)"
   ]
  },
  {
   "cell_type": "markdown",
   "metadata": {},
   "source": [
    "![Plot of gauss points](D2_nn6_tri_4_gauss.png \"Gauss Points\")"
   ]
  },
  {
   "cell_type": "code",
   "execution_count": 19,
   "metadata": {},
   "outputs": [],
   "source": [
    "import numpy as np\n",
    "\n",
    "fun_scalar = lambda xi, eta : 4 * np.sin(3*xi) + 3 * np.cos(4*eta) + np.tan(5*xi * eta)\n",
    "\n",
    "node_coords = np.array([[0,0], [1,0], [0,1], [0.5,0.5], [0,0.5], [0.5,0]])\n",
    "node_vals = np.array([fun_scalar(xi, eta) for xi, eta in node_coords])\n",
    "\n",
    "fname = el_type + \"_interpolate_fun_scalar.png\"\n",
    "di_demo.plot_interpolate_field_natural_coords_single_element(fname, el_type, node_vals)"
   ]
  },
  {
   "cell_type": "markdown",
   "metadata": {},
   "source": [
    "![Interpolated Scalar Function](D2_nn6_tri_interpolate_fun_scalar.png \"Interpolated Scalar Function\")"
   ]
  },
  {
   "cell_type": "markdown",
   "metadata": {},
   "source": [
    "Now, we can use a helper function to plot the node values at the natural coordinates."
   ]
  },
  {
   "cell_type": "code",
   "execution_count": 20,
   "metadata": {},
   "outputs": [],
   "source": [
    "fname = el_type + \"_interpolate_fcn_physical_coords.png\"\n",
    "di_demo.visualize_isoparametric_mapping_single_element(str(fname), el_type, node_coords, node_vals)"
   ]
  },
  {
   "cell_type": "markdown",
   "metadata": {},
   "source": [
    "![Interpolated Function in Physical Coordinates](D2_nn6_tri_interpolate_fcn_physical_coords.png \"Interpolated Function in Physical Coordinates\")"
   ]
  }
 ],
 "metadata": {
  "kernelspec": {
   "display_name": "myenv",
   "language": "python",
   "name": "python3"
  },
  "language_info": {
   "codemirror_mode": {
    "name": "ipython",
    "version": 3
   },
   "file_extension": ".py",
   "mimetype": "text/x-python",
   "name": "python",
   "nbconvert_exporter": "python",
   "pygments_lexer": "ipython3",
   "version": "3.12.8"
  }
 },
 "nbformat": 4,
 "nbformat_minor": 2
}
